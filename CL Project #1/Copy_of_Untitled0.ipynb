{
  "nbformat": 4,
  "nbformat_minor": 0,
  "metadata": {
    "colab": {
      "provenance": [],
      "include_colab_link": true
    },
    "kernelspec": {
      "name": "python3",
      "display_name": "Python 3"
    },
    "language_info": {
      "name": "python"
    }
  },
  "cells": [
    {
      "cell_type": "markdown",
      "metadata": {
        "id": "view-in-github",
        "colab_type": "text"
      },
      "source": [
        "<a href=\"https://colab.research.google.com/github/ValeriyaObraztsova/Python-s-Homeworks/blob/main/Copy_of_Untitled0.ipynb\" target=\"_parent\"><img src=\"https://colab.research.google.com/assets/colab-badge.svg\" alt=\"Open In Colab\"/></a>"
      ]
    },
    {
      "cell_type": "code",
      "source": [
        "!pip install eli5"
      ],
      "metadata": {
        "id": "FkSKk0cXbMVz"
      },
      "execution_count": null,
      "outputs": []
    },
    {
      "cell_type": "code",
      "execution_count": null,
      "metadata": {
        "id": "rSQTTU4xa1rK"
      },
      "outputs": [],
      "source": [
        "import pandas as pd\n",
        "from sklearn.linear_model import LogisticRegression\n",
        "from sklearn.model_selection import cross_val_score, StratifiedKFold\n",
        "from sklearn.feature_extraction.text import TfidfVectorizer\n",
        "from scipy.sparse import hstack\n",
        "from matplotlib import pyplot as plt\n",
        "import seaborn as sns\n",
        "import eli5"
      ]
    },
    {
      "cell_type": "code",
      "source": [
        "twitter = pd.read_csv('/content/labeled.csv')\n",
        "lenta = pd.read_csv('/content/lenta_sample_5000.csv')"
      ],
      "metadata": {
        "id": "rhP97uhwAz6i"
      },
      "execution_count": null,
      "outputs": []
    },
    {
      "cell_type": "code",
      "source": [
        "lenta.head()"
      ],
      "metadata": {
        "colab": {
          "base_uri": "https://localhost:8080/",
          "height": 337
        },
        "id": "5FRbYdWaXCcj",
        "outputId": "e84a6fa1-f949-4e28-af7b-331be2e2d3c3"
      },
      "execution_count": null,
      "outputs": [
        {
          "output_type": "execute_result",
          "data": {
            "text/plain": [
              "                                             url  \\\n",
              "0        https://lenta.ru/news/2012/09/28/lanta/   \n",
              "1      https://lenta.ru/news/2015/06/04/fifausa/   \n",
              "2      https://lenta.ru/news/2011/02/01/lincoln/   \n",
              "3         https://lenta.ru/news/2013/03/19/samo/   \n",
              "4  https://lenta.ru/news/2019/07/14/poklonskaya/   \n",
              "\n",
              "                                               title  \\\n",
              "0     Суд признал туроператора \"Ланта-тур\" банкротом   \n",
              "1  Вашингтон предрек обсуждение на саммите G7 ска...   \n",
              "2  Хоакину Фениксу предложили роль в фильме Тимур...   \n",
              "3     ЦБ попросил финансистов следить друг за другом   \n",
              "4  Стало известно о разрыве Поклонской с сектой ц...   \n",
              "\n",
              "                                                text      topic      tags  \\\n",
              "0  Арбитражный суд Москвы 28 сентября признал бан...  Экономика       Все   \n",
              "1  Администрация США ожидает, что коррупционный с...        Мир  Политика   \n",
              "2  Хоакину Фениксу предложили роль наставника Авр...   Культура       Все   \n",
              "3  Банк России предложил создать саморегулируемые...  Экономика       NaN   \n",
              "4  Депутат Госдумы Наталья Поклонская перестала п...        NaN  Политика   \n",
              "\n",
              "         date  \n",
              "0  2012/09/28  \n",
              "1  2015/06/04  \n",
              "2  2011/02/01  \n",
              "3  2013/03/19  \n",
              "4  2019/07/14  "
            ],
            "text/html": [
              "\n",
              "  <div id=\"df-e67fdc5a-b57f-4ea8-81ab-71ef0ea5c285\">\n",
              "    <div class=\"colab-df-container\">\n",
              "      <div>\n",
              "<style scoped>\n",
              "    .dataframe tbody tr th:only-of-type {\n",
              "        vertical-align: middle;\n",
              "    }\n",
              "\n",
              "    .dataframe tbody tr th {\n",
              "        vertical-align: top;\n",
              "    }\n",
              "\n",
              "    .dataframe thead th {\n",
              "        text-align: right;\n",
              "    }\n",
              "</style>\n",
              "<table border=\"1\" class=\"dataframe\">\n",
              "  <thead>\n",
              "    <tr style=\"text-align: right;\">\n",
              "      <th></th>\n",
              "      <th>url</th>\n",
              "      <th>title</th>\n",
              "      <th>text</th>\n",
              "      <th>topic</th>\n",
              "      <th>tags</th>\n",
              "      <th>date</th>\n",
              "    </tr>\n",
              "  </thead>\n",
              "  <tbody>\n",
              "    <tr>\n",
              "      <th>0</th>\n",
              "      <td>https://lenta.ru/news/2012/09/28/lanta/</td>\n",
              "      <td>Суд признал туроператора \"Ланта-тур\" банкротом</td>\n",
              "      <td>Арбитражный суд Москвы 28 сентября признал бан...</td>\n",
              "      <td>Экономика</td>\n",
              "      <td>Все</td>\n",
              "      <td>2012/09/28</td>\n",
              "    </tr>\n",
              "    <tr>\n",
              "      <th>1</th>\n",
              "      <td>https://lenta.ru/news/2015/06/04/fifausa/</td>\n",
              "      <td>Вашингтон предрек обсуждение на саммите G7 ска...</td>\n",
              "      <td>Администрация США ожидает, что коррупционный с...</td>\n",
              "      <td>Мир</td>\n",
              "      <td>Политика</td>\n",
              "      <td>2015/06/04</td>\n",
              "    </tr>\n",
              "    <tr>\n",
              "      <th>2</th>\n",
              "      <td>https://lenta.ru/news/2011/02/01/lincoln/</td>\n",
              "      <td>Хоакину Фениксу предложили роль в фильме Тимур...</td>\n",
              "      <td>Хоакину Фениксу предложили роль наставника Авр...</td>\n",
              "      <td>Культура</td>\n",
              "      <td>Все</td>\n",
              "      <td>2011/02/01</td>\n",
              "    </tr>\n",
              "    <tr>\n",
              "      <th>3</th>\n",
              "      <td>https://lenta.ru/news/2013/03/19/samo/</td>\n",
              "      <td>ЦБ попросил финансистов следить друг за другом</td>\n",
              "      <td>Банк России предложил создать саморегулируемые...</td>\n",
              "      <td>Экономика</td>\n",
              "      <td>NaN</td>\n",
              "      <td>2013/03/19</td>\n",
              "    </tr>\n",
              "    <tr>\n",
              "      <th>4</th>\n",
              "      <td>https://lenta.ru/news/2019/07/14/poklonskaya/</td>\n",
              "      <td>Стало известно о разрыве Поклонской с сектой ц...</td>\n",
              "      <td>Депутат Госдумы Наталья Поклонская перестала п...</td>\n",
              "      <td>NaN</td>\n",
              "      <td>Политика</td>\n",
              "      <td>2019/07/14</td>\n",
              "    </tr>\n",
              "  </tbody>\n",
              "</table>\n",
              "</div>\n",
              "      <button class=\"colab-df-convert\" onclick=\"convertToInteractive('df-e67fdc5a-b57f-4ea8-81ab-71ef0ea5c285')\"\n",
              "              title=\"Convert this dataframe to an interactive table.\"\n",
              "              style=\"display:none;\">\n",
              "        \n",
              "  <svg xmlns=\"http://www.w3.org/2000/svg\" height=\"24px\"viewBox=\"0 0 24 24\"\n",
              "       width=\"24px\">\n",
              "    <path d=\"M0 0h24v24H0V0z\" fill=\"none\"/>\n",
              "    <path d=\"M18.56 5.44l.94 2.06.94-2.06 2.06-.94-2.06-.94-.94-2.06-.94 2.06-2.06.94zm-11 1L8.5 8.5l.94-2.06 2.06-.94-2.06-.94L8.5 2.5l-.94 2.06-2.06.94zm10 10l.94 2.06.94-2.06 2.06-.94-2.06-.94-.94-2.06-.94 2.06-2.06.94z\"/><path d=\"M17.41 7.96l-1.37-1.37c-.4-.4-.92-.59-1.43-.59-.52 0-1.04.2-1.43.59L10.3 9.45l-7.72 7.72c-.78.78-.78 2.05 0 2.83L4 21.41c.39.39.9.59 1.41.59.51 0 1.02-.2 1.41-.59l7.78-7.78 2.81-2.81c.8-.78.8-2.07 0-2.86zM5.41 20L4 18.59l7.72-7.72 1.47 1.35L5.41 20z\"/>\n",
              "  </svg>\n",
              "      </button>\n",
              "      \n",
              "  <style>\n",
              "    .colab-df-container {\n",
              "      display:flex;\n",
              "      flex-wrap:wrap;\n",
              "      gap: 12px;\n",
              "    }\n",
              "\n",
              "    .colab-df-convert {\n",
              "      background-color: #E8F0FE;\n",
              "      border: none;\n",
              "      border-radius: 50%;\n",
              "      cursor: pointer;\n",
              "      display: none;\n",
              "      fill: #1967D2;\n",
              "      height: 32px;\n",
              "      padding: 0 0 0 0;\n",
              "      width: 32px;\n",
              "    }\n",
              "\n",
              "    .colab-df-convert:hover {\n",
              "      background-color: #E2EBFA;\n",
              "      box-shadow: 0px 1px 2px rgba(60, 64, 67, 0.3), 0px 1px 3px 1px rgba(60, 64, 67, 0.15);\n",
              "      fill: #174EA6;\n",
              "    }\n",
              "\n",
              "    [theme=dark] .colab-df-convert {\n",
              "      background-color: #3B4455;\n",
              "      fill: #D2E3FC;\n",
              "    }\n",
              "\n",
              "    [theme=dark] .colab-df-convert:hover {\n",
              "      background-color: #434B5C;\n",
              "      box-shadow: 0px 1px 3px 1px rgba(0, 0, 0, 0.15);\n",
              "      filter: drop-shadow(0px 1px 2px rgba(0, 0, 0, 0.3));\n",
              "      fill: #FFFFFF;\n",
              "    }\n",
              "  </style>\n",
              "\n",
              "      <script>\n",
              "        const buttonEl =\n",
              "          document.querySelector('#df-e67fdc5a-b57f-4ea8-81ab-71ef0ea5c285 button.colab-df-convert');\n",
              "        buttonEl.style.display =\n",
              "          google.colab.kernel.accessAllowed ? 'block' : 'none';\n",
              "\n",
              "        async function convertToInteractive(key) {\n",
              "          const element = document.querySelector('#df-e67fdc5a-b57f-4ea8-81ab-71ef0ea5c285');\n",
              "          const dataTable =\n",
              "            await google.colab.kernel.invokeFunction('convertToInteractive',\n",
              "                                                     [key], {});\n",
              "          if (!dataTable) return;\n",
              "\n",
              "          const docLinkHtml = 'Like what you see? Visit the ' +\n",
              "            '<a target=\"_blank\" href=https://colab.research.google.com/notebooks/data_table.ipynb>data table notebook</a>'\n",
              "            + ' to learn more about interactive tables.';\n",
              "          element.innerHTML = '';\n",
              "          dataTable['output_type'] = 'display_data';\n",
              "          await google.colab.output.renderOutput(dataTable, element);\n",
              "          const docLink = document.createElement('div');\n",
              "          docLink.innerHTML = docLinkHtml;\n",
              "          element.appendChild(docLink);\n",
              "        }\n",
              "      </script>\n",
              "    </div>\n",
              "  </div>\n",
              "  "
            ]
          },
          "metadata": {},
          "execution_count": 34
        }
      ]
    },
    {
      "cell_type": "code",
      "source": [
        "twitter.head()"
      ],
      "metadata": {
        "colab": {
          "base_uri": "https://localhost:8080/",
          "height": 206
        },
        "id": "VrPR0Cd7XJHF",
        "outputId": "009b79f3-deb9-4052-bf82-d490ee904794"
      },
      "execution_count": null,
      "outputs": [
        {
          "output_type": "execute_result",
          "data": {
            "text/plain": [
              "                                                 comment  toxic\n",
              "9681   И потом твоя попа сожрёт твои трусы... См. 4фо...    1.0\n",
              "12265   Год, вес, размер, сплав, описание изображения.\\n    0.0\n",
              "11384  проходящими в долларах (т.е. через США) Вы ино...    0.0\n",
              "11552              Это гифка, чувак, она не обрывается\\n    1.0\n",
              "380    В очередной раз убеждаюсь, что двачеры редкост...    1.0"
            ],
            "text/html": [
              "\n",
              "  <div id=\"df-c008015c-dae6-4ebf-96a6-06f197240128\">\n",
              "    <div class=\"colab-df-container\">\n",
              "      <div>\n",
              "<style scoped>\n",
              "    .dataframe tbody tr th:only-of-type {\n",
              "        vertical-align: middle;\n",
              "    }\n",
              "\n",
              "    .dataframe tbody tr th {\n",
              "        vertical-align: top;\n",
              "    }\n",
              "\n",
              "    .dataframe thead th {\n",
              "        text-align: right;\n",
              "    }\n",
              "</style>\n",
              "<table border=\"1\" class=\"dataframe\">\n",
              "  <thead>\n",
              "    <tr style=\"text-align: right;\">\n",
              "      <th></th>\n",
              "      <th>comment</th>\n",
              "      <th>toxic</th>\n",
              "    </tr>\n",
              "  </thead>\n",
              "  <tbody>\n",
              "    <tr>\n",
              "      <th>9681</th>\n",
              "      <td>И потом твоя попа сожрёт твои трусы... См. 4фо...</td>\n",
              "      <td>1.0</td>\n",
              "    </tr>\n",
              "    <tr>\n",
              "      <th>12265</th>\n",
              "      <td>Год, вес, размер, сплав, описание изображения.\\n</td>\n",
              "      <td>0.0</td>\n",
              "    </tr>\n",
              "    <tr>\n",
              "      <th>11384</th>\n",
              "      <td>проходящими в долларах (т.е. через США) Вы ино...</td>\n",
              "      <td>0.0</td>\n",
              "    </tr>\n",
              "    <tr>\n",
              "      <th>11552</th>\n",
              "      <td>Это гифка, чувак, она не обрывается\\n</td>\n",
              "      <td>1.0</td>\n",
              "    </tr>\n",
              "    <tr>\n",
              "      <th>380</th>\n",
              "      <td>В очередной раз убеждаюсь, что двачеры редкост...</td>\n",
              "      <td>1.0</td>\n",
              "    </tr>\n",
              "  </tbody>\n",
              "</table>\n",
              "</div>\n",
              "      <button class=\"colab-df-convert\" onclick=\"convertToInteractive('df-c008015c-dae6-4ebf-96a6-06f197240128')\"\n",
              "              title=\"Convert this dataframe to an interactive table.\"\n",
              "              style=\"display:none;\">\n",
              "        \n",
              "  <svg xmlns=\"http://www.w3.org/2000/svg\" height=\"24px\"viewBox=\"0 0 24 24\"\n",
              "       width=\"24px\">\n",
              "    <path d=\"M0 0h24v24H0V0z\" fill=\"none\"/>\n",
              "    <path d=\"M18.56 5.44l.94 2.06.94-2.06 2.06-.94-2.06-.94-.94-2.06-.94 2.06-2.06.94zm-11 1L8.5 8.5l.94-2.06 2.06-.94-2.06-.94L8.5 2.5l-.94 2.06-2.06.94zm10 10l.94 2.06.94-2.06 2.06-.94-2.06-.94-.94-2.06-.94 2.06-2.06.94z\"/><path d=\"M17.41 7.96l-1.37-1.37c-.4-.4-.92-.59-1.43-.59-.52 0-1.04.2-1.43.59L10.3 9.45l-7.72 7.72c-.78.78-.78 2.05 0 2.83L4 21.41c.39.39.9.59 1.41.59.51 0 1.02-.2 1.41-.59l7.78-7.78 2.81-2.81c.8-.78.8-2.07 0-2.86zM5.41 20L4 18.59l7.72-7.72 1.47 1.35L5.41 20z\"/>\n",
              "  </svg>\n",
              "      </button>\n",
              "      \n",
              "  <style>\n",
              "    .colab-df-container {\n",
              "      display:flex;\n",
              "      flex-wrap:wrap;\n",
              "      gap: 12px;\n",
              "    }\n",
              "\n",
              "    .colab-df-convert {\n",
              "      background-color: #E8F0FE;\n",
              "      border: none;\n",
              "      border-radius: 50%;\n",
              "      cursor: pointer;\n",
              "      display: none;\n",
              "      fill: #1967D2;\n",
              "      height: 32px;\n",
              "      padding: 0 0 0 0;\n",
              "      width: 32px;\n",
              "    }\n",
              "\n",
              "    .colab-df-convert:hover {\n",
              "      background-color: #E2EBFA;\n",
              "      box-shadow: 0px 1px 2px rgba(60, 64, 67, 0.3), 0px 1px 3px 1px rgba(60, 64, 67, 0.15);\n",
              "      fill: #174EA6;\n",
              "    }\n",
              "\n",
              "    [theme=dark] .colab-df-convert {\n",
              "      background-color: #3B4455;\n",
              "      fill: #D2E3FC;\n",
              "    }\n",
              "\n",
              "    [theme=dark] .colab-df-convert:hover {\n",
              "      background-color: #434B5C;\n",
              "      box-shadow: 0px 1px 3px 1px rgba(0, 0, 0, 0.15);\n",
              "      filter: drop-shadow(0px 1px 2px rgba(0, 0, 0, 0.3));\n",
              "      fill: #FFFFFF;\n",
              "    }\n",
              "  </style>\n",
              "\n",
              "      <script>\n",
              "        const buttonEl =\n",
              "          document.querySelector('#df-c008015c-dae6-4ebf-96a6-06f197240128 button.colab-df-convert');\n",
              "        buttonEl.style.display =\n",
              "          google.colab.kernel.accessAllowed ? 'block' : 'none';\n",
              "\n",
              "        async function convertToInteractive(key) {\n",
              "          const element = document.querySelector('#df-c008015c-dae6-4ebf-96a6-06f197240128');\n",
              "          const dataTable =\n",
              "            await google.colab.kernel.invokeFunction('convertToInteractive',\n",
              "                                                     [key], {});\n",
              "          if (!dataTable) return;\n",
              "\n",
              "          const docLinkHtml = 'Like what you see? Visit the ' +\n",
              "            '<a target=\"_blank\" href=https://colab.research.google.com/notebooks/data_table.ipynb>data table notebook</a>'\n",
              "            + ' to learn more about interactive tables.';\n",
              "          element.innerHTML = '';\n",
              "          dataTable['output_type'] = 'display_data';\n",
              "          await google.colab.output.renderOutput(dataTable, element);\n",
              "          const docLink = document.createElement('div');\n",
              "          docLink.innerHTML = docLinkHtml;\n",
              "          element.appendChild(docLink);\n",
              "        }\n",
              "      </script>\n",
              "    </div>\n",
              "  </div>\n",
              "  "
            ]
          },
          "metadata": {},
          "execution_count": 39
        }
      ]
    },
    {
      "cell_type": "code",
      "source": [
        "twitter = twitter.sample(5000)"
      ],
      "metadata": {
        "id": "tZ8xUGn_XeDN"
      },
      "execution_count": null,
      "outputs": []
    },
    {
      "cell_type": "code",
      "source": [
        "#!pip install razdel\n",
        "#!pip install pymorphy2"
      ],
      "metadata": {
        "id": "xV5YabUoMxp9"
      },
      "execution_count": null,
      "outputs": []
    },
    {
      "cell_type": "code",
      "source": [
        "from nltk import sent_tokenize, word_tokenize\n",
        "import itertools\n",
        "from razdel import sentenize\n",
        "from pymorphy2 import MorphAnalyzer\n",
        "from collections import Counter, defaultdict\n",
        "import numpy as np\n",
        "import re\n",
        "from string import punctuation\n",
        "from nltk.corpus import stopwords\n",
        "import json\n",
        "from math import log\n",
        "import nltk\n",
        "nltk.download('stopwords')"
      ],
      "metadata": {
        "colab": {
          "base_uri": "https://localhost:8080/"
        },
        "id": "FNk_I0YZMpG-",
        "outputId": "634bdbbc-ff70-4549-aafc-b1fc8bdd6182"
      },
      "execution_count": null,
      "outputs": [
        {
          "output_type": "stream",
          "name": "stderr",
          "text": [
            "[nltk_data] Downloading package stopwords to /root/nltk_data...\n",
            "[nltk_data]   Unzipping corpora/stopwords.zip.\n"
          ]
        },
        {
          "output_type": "execute_result",
          "data": {
            "text/plain": [
              "True"
            ]
          },
          "metadata": {},
          "execution_count": 22
        }
      ]
    },
    {
      "cell_type": "code",
      "source": [
        "import nltk\n",
        "nltk.download('stopwords')"
      ],
      "metadata": {
        "colab": {
          "base_uri": "https://localhost:8080/"
        },
        "id": "LXvkbMm1m7cl",
        "outputId": "d6d85fd3-d639-41c2-a39c-6dd75ce7242d"
      },
      "execution_count": null,
      "outputs": [
        {
          "output_type": "stream",
          "name": "stderr",
          "text": [
            "[nltk_data] Downloading package stopwords to /root/nltk_data...\n",
            "[nltk_data]   Unzipping corpora/stopwords.zip.\n"
          ]
        },
        {
          "output_type": "execute_result",
          "data": {
            "text/plain": [
              "True"
            ]
          },
          "metadata": {},
          "execution_count": 27
        }
      ]
    },
    {
      "cell_type": "code",
      "source": [
        "from nltk.corpus import stopwords\n",
        "stops = set(stopwords.words('russian') + [\"это\", \"весь\"])"
      ],
      "metadata": {
        "id": "EVcXcsRgmJiN"
      },
      "execution_count": null,
      "outputs": []
    },
    {
      "cell_type": "markdown",
      "source": [
        "# Markov"
      ],
      "metadata": {
        "id": "M6l3Ot_zf0f3"
      }
    },
    {
      "cell_type": "code",
      "source": [
        "!pip install razdel"
      ],
      "metadata": {
        "colab": {
          "base_uri": "https://localhost:8080/"
        },
        "id": "_ssX7IFZkhEc",
        "outputId": "b0b9b86d-26ff-4539-ff63-24fa5996ad83"
      },
      "execution_count": null,
      "outputs": [
        {
          "output_type": "stream",
          "name": "stdout",
          "text": [
            "Looking in indexes: https://pypi.org/simple, https://us-python.pkg.dev/colab-wheels/public/simple/\n",
            "Collecting razdel\n",
            "  Downloading razdel-0.5.0-py3-none-any.whl (21 kB)\n",
            "Installing collected packages: razdel\n",
            "Successfully installed razdel-0.5.0\n"
          ]
        }
      ]
    },
    {
      "cell_type": "code",
      "source": [
        "from tqdm import tqdm\n",
        "tqdm.pandas()"
      ],
      "metadata": {
        "id": "6Pq2GPTuocyr"
      },
      "execution_count": null,
      "outputs": []
    },
    {
      "cell_type": "code",
      "source": [
        "from string import punctuation\n",
        "from razdel import sentenize\n",
        "from razdel import tokenize as razdel_tokenize\n",
        "import numpy as np\n",
        "from IPython.display import Image\n",
        "from IPython.core.display import HTML\n",
        "import pandas as pd\n",
        "import re\n",
        "\n",
        "rtt = pd.read_csv('labeled.csv')\n",
        "lenta = pd.read_csv('lenta_sample_5000.csv')"
      ],
      "metadata": {
        "id": "qVgNi6aUfzmx"
      },
      "execution_count": null,
      "outputs": []
    },
    {
      "cell_type": "code",
      "source": [
        "lenta.head()"
      ],
      "metadata": {
        "colab": {
          "base_uri": "https://localhost:8080/",
          "height": 333
        },
        "id": "jjEnVZv_gSeW",
        "outputId": "eed593e2-6d77-45b9-bb46-d5ba4fbb9c26"
      },
      "execution_count": null,
      "outputs": [
        {
          "output_type": "execute_result",
          "data": {
            "text/plain": [
              "                                             url  \\\n",
              "0        https://lenta.ru/news/2012/09/28/lanta/   \n",
              "1      https://lenta.ru/news/2015/06/04/fifausa/   \n",
              "2      https://lenta.ru/news/2011/02/01/lincoln/   \n",
              "3         https://lenta.ru/news/2013/03/19/samo/   \n",
              "4  https://lenta.ru/news/2019/07/14/poklonskaya/   \n",
              "\n",
              "                                               title  \\\n",
              "0     Суд признал туроператора \"Ланта-тур\" банкротом   \n",
              "1  Вашингтон предрек обсуждение на саммите G7 ска...   \n",
              "2  Хоакину Фениксу предложили роль в фильме Тимур...   \n",
              "3     ЦБ попросил финансистов следить друг за другом   \n",
              "4  Стало известно о разрыве Поклонской с сектой ц...   \n",
              "\n",
              "                                                text      topic      tags  \\\n",
              "0  Арбитражный суд Москвы 28 сентября признал бан...  Экономика       Все   \n",
              "1  Администрация США ожидает, что коррупционный с...        Мир  Политика   \n",
              "2  Хоакину Фениксу предложили роль наставника Авр...   Культура       Все   \n",
              "3  Банк России предложил создать саморегулируемые...  Экономика       NaN   \n",
              "4  Депутат Госдумы Наталья Поклонская перестала п...        NaN  Политика   \n",
              "\n",
              "         date  \n",
              "0  2012/09/28  \n",
              "1  2015/06/04  \n",
              "2  2011/02/01  \n",
              "3  2013/03/19  \n",
              "4  2019/07/14  "
            ],
            "text/html": [
              "\n",
              "  <div id=\"df-18239918-8c60-47c0-97aa-46b5f378a054\">\n",
              "    <div class=\"colab-df-container\">\n",
              "      <div>\n",
              "<style scoped>\n",
              "    .dataframe tbody tr th:only-of-type {\n",
              "        vertical-align: middle;\n",
              "    }\n",
              "\n",
              "    .dataframe tbody tr th {\n",
              "        vertical-align: top;\n",
              "    }\n",
              "\n",
              "    .dataframe thead th {\n",
              "        text-align: right;\n",
              "    }\n",
              "</style>\n",
              "<table border=\"1\" class=\"dataframe\">\n",
              "  <thead>\n",
              "    <tr style=\"text-align: right;\">\n",
              "      <th></th>\n",
              "      <th>url</th>\n",
              "      <th>title</th>\n",
              "      <th>text</th>\n",
              "      <th>topic</th>\n",
              "      <th>tags</th>\n",
              "      <th>date</th>\n",
              "    </tr>\n",
              "  </thead>\n",
              "  <tbody>\n",
              "    <tr>\n",
              "      <th>0</th>\n",
              "      <td>https://lenta.ru/news/2012/09/28/lanta/</td>\n",
              "      <td>Суд признал туроператора \"Ланта-тур\" банкротом</td>\n",
              "      <td>Арбитражный суд Москвы 28 сентября признал бан...</td>\n",
              "      <td>Экономика</td>\n",
              "      <td>Все</td>\n",
              "      <td>2012/09/28</td>\n",
              "    </tr>\n",
              "    <tr>\n",
              "      <th>1</th>\n",
              "      <td>https://lenta.ru/news/2015/06/04/fifausa/</td>\n",
              "      <td>Вашингтон предрек обсуждение на саммите G7 ска...</td>\n",
              "      <td>Администрация США ожидает, что коррупционный с...</td>\n",
              "      <td>Мир</td>\n",
              "      <td>Политика</td>\n",
              "      <td>2015/06/04</td>\n",
              "    </tr>\n",
              "    <tr>\n",
              "      <th>2</th>\n",
              "      <td>https://lenta.ru/news/2011/02/01/lincoln/</td>\n",
              "      <td>Хоакину Фениксу предложили роль в фильме Тимур...</td>\n",
              "      <td>Хоакину Фениксу предложили роль наставника Авр...</td>\n",
              "      <td>Культура</td>\n",
              "      <td>Все</td>\n",
              "      <td>2011/02/01</td>\n",
              "    </tr>\n",
              "    <tr>\n",
              "      <th>3</th>\n",
              "      <td>https://lenta.ru/news/2013/03/19/samo/</td>\n",
              "      <td>ЦБ попросил финансистов следить друг за другом</td>\n",
              "      <td>Банк России предложил создать саморегулируемые...</td>\n",
              "      <td>Экономика</td>\n",
              "      <td>NaN</td>\n",
              "      <td>2013/03/19</td>\n",
              "    </tr>\n",
              "    <tr>\n",
              "      <th>4</th>\n",
              "      <td>https://lenta.ru/news/2019/07/14/poklonskaya/</td>\n",
              "      <td>Стало известно о разрыве Поклонской с сектой ц...</td>\n",
              "      <td>Депутат Госдумы Наталья Поклонская перестала п...</td>\n",
              "      <td>NaN</td>\n",
              "      <td>Политика</td>\n",
              "      <td>2019/07/14</td>\n",
              "    </tr>\n",
              "  </tbody>\n",
              "</table>\n",
              "</div>\n",
              "      <button class=\"colab-df-convert\" onclick=\"convertToInteractive('df-18239918-8c60-47c0-97aa-46b5f378a054')\"\n",
              "              title=\"Convert this dataframe to an interactive table.\"\n",
              "              style=\"display:none;\">\n",
              "        \n",
              "  <svg xmlns=\"http://www.w3.org/2000/svg\" height=\"24px\"viewBox=\"0 0 24 24\"\n",
              "       width=\"24px\">\n",
              "    <path d=\"M0 0h24v24H0V0z\" fill=\"none\"/>\n",
              "    <path d=\"M18.56 5.44l.94 2.06.94-2.06 2.06-.94-2.06-.94-.94-2.06-.94 2.06-2.06.94zm-11 1L8.5 8.5l.94-2.06 2.06-.94-2.06-.94L8.5 2.5l-.94 2.06-2.06.94zm10 10l.94 2.06.94-2.06 2.06-.94-2.06-.94-.94-2.06-.94 2.06-2.06.94z\"/><path d=\"M17.41 7.96l-1.37-1.37c-.4-.4-.92-.59-1.43-.59-.52 0-1.04.2-1.43.59L10.3 9.45l-7.72 7.72c-.78.78-.78 2.05 0 2.83L4 21.41c.39.39.9.59 1.41.59.51 0 1.02-.2 1.41-.59l7.78-7.78 2.81-2.81c.8-.78.8-2.07 0-2.86zM5.41 20L4 18.59l7.72-7.72 1.47 1.35L5.41 20z\"/>\n",
              "  </svg>\n",
              "      </button>\n",
              "      \n",
              "  <style>\n",
              "    .colab-df-container {\n",
              "      display:flex;\n",
              "      flex-wrap:wrap;\n",
              "      gap: 12px;\n",
              "    }\n",
              "\n",
              "    .colab-df-convert {\n",
              "      background-color: #E8F0FE;\n",
              "      border: none;\n",
              "      border-radius: 50%;\n",
              "      cursor: pointer;\n",
              "      display: none;\n",
              "      fill: #1967D2;\n",
              "      height: 32px;\n",
              "      padding: 0 0 0 0;\n",
              "      width: 32px;\n",
              "    }\n",
              "\n",
              "    .colab-df-convert:hover {\n",
              "      background-color: #E2EBFA;\n",
              "      box-shadow: 0px 1px 2px rgba(60, 64, 67, 0.3), 0px 1px 3px 1px rgba(60, 64, 67, 0.15);\n",
              "      fill: #174EA6;\n",
              "    }\n",
              "\n",
              "    [theme=dark] .colab-df-convert {\n",
              "      background-color: #3B4455;\n",
              "      fill: #D2E3FC;\n",
              "    }\n",
              "\n",
              "    [theme=dark] .colab-df-convert:hover {\n",
              "      background-color: #434B5C;\n",
              "      box-shadow: 0px 1px 3px 1px rgba(0, 0, 0, 0.15);\n",
              "      filter: drop-shadow(0px 1px 2px rgba(0, 0, 0, 0.3));\n",
              "      fill: #FFFFFF;\n",
              "    }\n",
              "  </style>\n",
              "\n",
              "      <script>\n",
              "        const buttonEl =\n",
              "          document.querySelector('#df-18239918-8c60-47c0-97aa-46b5f378a054 button.colab-df-convert');\n",
              "        buttonEl.style.display =\n",
              "          google.colab.kernel.accessAllowed ? 'block' : 'none';\n",
              "\n",
              "        async function convertToInteractive(key) {\n",
              "          const element = document.querySelector('#df-18239918-8c60-47c0-97aa-46b5f378a054');\n",
              "          const dataTable =\n",
              "            await google.colab.kernel.invokeFunction('convertToInteractive',\n",
              "                                                     [key], {});\n",
              "          if (!dataTable) return;\n",
              "\n",
              "          const docLinkHtml = 'Like what you see? Visit the ' +\n",
              "            '<a target=\"_blank\" href=https://colab.research.google.com/notebooks/data_table.ipynb>data table notebook</a>'\n",
              "            + ' to learn more about interactive tables.';\n",
              "          element.innerHTML = '';\n",
              "          dataTable['output_type'] = 'display_data';\n",
              "          await google.colab.output.renderOutput(dataTable, element);\n",
              "          const docLink = document.createElement('div');\n",
              "          docLink.innerHTML = docLinkHtml;\n",
              "          element.appendChild(docLink);\n",
              "        }\n",
              "      </script>\n",
              "    </div>\n",
              "  </div>\n",
              "  "
            ]
          },
          "metadata": {},
          "execution_count": 7
        }
      ]
    },
    {
      "cell_type": "code",
      "source": [
        "rtt.head()"
      ],
      "metadata": {
        "colab": {
          "base_uri": "https://localhost:8080/",
          "height": 204
        },
        "id": "OVVJQzBegU7Z",
        "outputId": "7c154286-b9f9-404f-f59e-dae64865571e"
      },
      "execution_count": null,
      "outputs": [
        {
          "output_type": "execute_result",
          "data": {
            "text/plain": [
              "                                             comment  toxic\n",
              "0               Верблюдов-то за что? Дебилы, бл...\\n    1.0\n",
              "1  Хохлы, это отдушина затюканого россиянина, мол...    1.0\n",
              "2                          Собаке - собачья смерть\\n    1.0\n",
              "3  Страницу обнови, дебил. Это тоже не оскорблени...    1.0\n",
              "4  тебя не убедил 6-страничный пдф в том, что Скр...    1.0"
            ],
            "text/html": [
              "\n",
              "  <div id=\"df-edd9542c-98f6-4314-8dcb-4744af5df58d\">\n",
              "    <div class=\"colab-df-container\">\n",
              "      <div>\n",
              "<style scoped>\n",
              "    .dataframe tbody tr th:only-of-type {\n",
              "        vertical-align: middle;\n",
              "    }\n",
              "\n",
              "    .dataframe tbody tr th {\n",
              "        vertical-align: top;\n",
              "    }\n",
              "\n",
              "    .dataframe thead th {\n",
              "        text-align: right;\n",
              "    }\n",
              "</style>\n",
              "<table border=\"1\" class=\"dataframe\">\n",
              "  <thead>\n",
              "    <tr style=\"text-align: right;\">\n",
              "      <th></th>\n",
              "      <th>comment</th>\n",
              "      <th>toxic</th>\n",
              "    </tr>\n",
              "  </thead>\n",
              "  <tbody>\n",
              "    <tr>\n",
              "      <th>0</th>\n",
              "      <td>Верблюдов-то за что? Дебилы, бл...\\n</td>\n",
              "      <td>1.0</td>\n",
              "    </tr>\n",
              "    <tr>\n",
              "      <th>1</th>\n",
              "      <td>Хохлы, это отдушина затюканого россиянина, мол...</td>\n",
              "      <td>1.0</td>\n",
              "    </tr>\n",
              "    <tr>\n",
              "      <th>2</th>\n",
              "      <td>Собаке - собачья смерть\\n</td>\n",
              "      <td>1.0</td>\n",
              "    </tr>\n",
              "    <tr>\n",
              "      <th>3</th>\n",
              "      <td>Страницу обнови, дебил. Это тоже не оскорблени...</td>\n",
              "      <td>1.0</td>\n",
              "    </tr>\n",
              "    <tr>\n",
              "      <th>4</th>\n",
              "      <td>тебя не убедил 6-страничный пдф в том, что Скр...</td>\n",
              "      <td>1.0</td>\n",
              "    </tr>\n",
              "  </tbody>\n",
              "</table>\n",
              "</div>\n",
              "      <button class=\"colab-df-convert\" onclick=\"convertToInteractive('df-edd9542c-98f6-4314-8dcb-4744af5df58d')\"\n",
              "              title=\"Convert this dataframe to an interactive table.\"\n",
              "              style=\"display:none;\">\n",
              "        \n",
              "  <svg xmlns=\"http://www.w3.org/2000/svg\" height=\"24px\"viewBox=\"0 0 24 24\"\n",
              "       width=\"24px\">\n",
              "    <path d=\"M0 0h24v24H0V0z\" fill=\"none\"/>\n",
              "    <path d=\"M18.56 5.44l.94 2.06.94-2.06 2.06-.94-2.06-.94-.94-2.06-.94 2.06-2.06.94zm-11 1L8.5 8.5l.94-2.06 2.06-.94-2.06-.94L8.5 2.5l-.94 2.06-2.06.94zm10 10l.94 2.06.94-2.06 2.06-.94-2.06-.94-.94-2.06-.94 2.06-2.06.94z\"/><path d=\"M17.41 7.96l-1.37-1.37c-.4-.4-.92-.59-1.43-.59-.52 0-1.04.2-1.43.59L10.3 9.45l-7.72 7.72c-.78.78-.78 2.05 0 2.83L4 21.41c.39.39.9.59 1.41.59.51 0 1.02-.2 1.41-.59l7.78-7.78 2.81-2.81c.8-.78.8-2.07 0-2.86zM5.41 20L4 18.59l7.72-7.72 1.47 1.35L5.41 20z\"/>\n",
              "  </svg>\n",
              "      </button>\n",
              "      \n",
              "  <style>\n",
              "    .colab-df-container {\n",
              "      display:flex;\n",
              "      flex-wrap:wrap;\n",
              "      gap: 12px;\n",
              "    }\n",
              "\n",
              "    .colab-df-convert {\n",
              "      background-color: #E8F0FE;\n",
              "      border: none;\n",
              "      border-radius: 50%;\n",
              "      cursor: pointer;\n",
              "      display: none;\n",
              "      fill: #1967D2;\n",
              "      height: 32px;\n",
              "      padding: 0 0 0 0;\n",
              "      width: 32px;\n",
              "    }\n",
              "\n",
              "    .colab-df-convert:hover {\n",
              "      background-color: #E2EBFA;\n",
              "      box-shadow: 0px 1px 2px rgba(60, 64, 67, 0.3), 0px 1px 3px 1px rgba(60, 64, 67, 0.15);\n",
              "      fill: #174EA6;\n",
              "    }\n",
              "\n",
              "    [theme=dark] .colab-df-convert {\n",
              "      background-color: #3B4455;\n",
              "      fill: #D2E3FC;\n",
              "    }\n",
              "\n",
              "    [theme=dark] .colab-df-convert:hover {\n",
              "      background-color: #434B5C;\n",
              "      box-shadow: 0px 1px 3px 1px rgba(0, 0, 0, 0.15);\n",
              "      filter: drop-shadow(0px 1px 2px rgba(0, 0, 0, 0.3));\n",
              "      fill: #FFFFFF;\n",
              "    }\n",
              "  </style>\n",
              "\n",
              "      <script>\n",
              "        const buttonEl =\n",
              "          document.querySelector('#df-edd9542c-98f6-4314-8dcb-4744af5df58d button.colab-df-convert');\n",
              "        buttonEl.style.display =\n",
              "          google.colab.kernel.accessAllowed ? 'block' : 'none';\n",
              "\n",
              "        async function convertToInteractive(key) {\n",
              "          const element = document.querySelector('#df-edd9542c-98f6-4314-8dcb-4744af5df58d');\n",
              "          const dataTable =\n",
              "            await google.colab.kernel.invokeFunction('convertToInteractive',\n",
              "                                                     [key], {});\n",
              "          if (!dataTable) return;\n",
              "\n",
              "          const docLinkHtml = 'Like what you see? Visit the ' +\n",
              "            '<a target=\"_blank\" href=https://colab.research.google.com/notebooks/data_table.ipynb>data table notebook</a>'\n",
              "            + ' to learn more about interactive tables.';\n",
              "          element.innerHTML = '';\n",
              "          dataTable['output_type'] = 'display_data';\n",
              "          await google.colab.output.renderOutput(dataTable, element);\n",
              "          const docLink = document.createElement('div');\n",
              "          docLink.innerHTML = docLinkHtml;\n",
              "          element.appendChild(docLink);\n",
              "        }\n",
              "      </script>\n",
              "    </div>\n",
              "  </div>\n",
              "  "
            ]
          },
          "metadata": {},
          "execution_count": 8
        }
      ]
    },
    {
      "cell_type": "code",
      "source": [
        "# функция нормализации текста\n",
        "def normalize(text):\n",
        "    normalized_text = [word.text.strip(punctuation).lower() for word \\\n",
        "                                                            in razdel_tokenize(text)]\n",
        "    normalized_text = [word for word in normalized_text if word and len(word) < 20\\\n",
        "                       and bool(re.search('\\w', word)) and word not in stops]\n",
        "    return normalized_text"
      ],
      "metadata": {
        "id": "hh6sTpEChE9P"
      },
      "execution_count": null,
      "outputs": []
    },
    {
      "cell_type": "code",
      "source": [
        "rtt.rename(columns={'comment': 'text'}, inplace=True)"
      ],
      "metadata": {
        "id": "_VMcw71vlBby"
      },
      "execution_count": null,
      "outputs": []
    },
    {
      "cell_type": "code",
      "source": [],
      "metadata": {
        "id": "6HumNnaJlfrZ"
      },
      "execution_count": null,
      "outputs": []
    },
    {
      "cell_type": "code",
      "source": [
        "lenta['text_norm'] = lenta.text.apply(normalize)\n",
        "rtt['text_norm'] = rtt.text.apply(normalize)"
      ],
      "metadata": {
        "id": "ErlILNPphm33"
      },
      "execution_count": null,
      "outputs": []
    },
    {
      "cell_type": "code",
      "source": [
        "#посчитаем самые частые слова\n",
        "from collections import Counter\n",
        "vocab_lenta = Counter([word for sent in lenta['text_norm'] for word in sent])\n",
        "vocab_rtt = Counter([word for sent in rtt['text_norm'] for word in sent])"
      ],
      "metadata": {
        "id": "r4vCBYkWi2i1"
      },
      "execution_count": null,
      "outputs": []
    },
    {
      "cell_type": "code",
      "source": [
        "vocab_lenta.most_common(10)"
      ],
      "metadata": {
        "colab": {
          "base_uri": "https://localhost:8080/"
        },
        "id": "R7HQCidBjyhT",
        "outputId": "bdf2444b-07e8-47b9-b92c-7deb503cd794"
      },
      "execution_count": null,
      "outputs": [
        {
          "output_type": "execute_result",
          "data": {
            "text/plain": [
              "[('года', 4075),\n",
              " ('сообщает', 2787),\n",
              " ('также', 2781),\n",
              " ('россии', 2452),\n",
              " ('году', 2281),\n",
              " ('время', 1874),\n",
              " ('сша', 1578),\n",
              " ('заявил', 1431),\n",
              " ('словам', 1421),\n",
              " ('однако', 1373)]"
            ]
          },
          "metadata": {},
          "execution_count": 35
        }
      ]
    },
    {
      "cell_type": "code",
      "source": [
        "vocab_rtt.most_common(10)"
      ],
      "metadata": {
        "id": "6POhG3aWjylz",
        "colab": {
          "base_uri": "https://localhost:8080/"
        },
        "outputId": "f1627971-8528-4e44-b6e3-f73d4528794b"
      },
      "execution_count": null,
      "outputs": [
        {
          "output_type": "execute_result",
          "data": {
            "text/plain": [
              "[('просто', 1080),\n",
              " ('очень', 644),\n",
              " ('лет', 632),\n",
              " ('всё', 630),\n",
              " ('вообще', 625),\n",
              " ('ещё', 586),\n",
              " ('2', 499),\n",
              " ('время', 456),\n",
              " ('т', 451),\n",
              " ('которые', 436)]"
            ]
          },
          "metadata": {},
          "execution_count": 36
        }
      ]
    },
    {
      "cell_type": "code",
      "source": [
        "#посчитаем вероятности\n",
        "lenta_num_tokens = sum(vocab_lenta.values())\n",
        "probas_lenta = Counter({word:c/lenta_num_tokens \\\n",
        "                        for word, c in vocab_lenta.items()})\n",
        "\n",
        "rtt_num_tokens = sum(vocab_rtt.values())\n",
        "probas_rtt = Counter({word:c/rtt_num_tokens for word, c in vocab_rtt.items()})\n"
      ],
      "metadata": {
        "id": "5YankznoqlgF"
      },
      "execution_count": null,
      "outputs": []
    },
    {
      "cell_type": "code",
      "source": [
        "#теперь с помощью этих вероятностей мы можем оценить, насколько рандомный\n",
        "#текст соответствует публицистическому или разговорному стилю\n",
        "\n",
        "#1 метод\n",
        "#функция, которая рассчитает общую вероятность (перемножаем вероятности, т. к.\n",
        "#нам нужно вероятность нескольких независимых событий (слов) возникающих одновременно\n",
        "\n",
        "def joint_probas(text, word_probas, num_tokens):\n",
        "  prob = 0\n",
        "  for word in normalize(text):\n",
        "    if word in word_probas:\n",
        "      prob += (np.log(word_probas[word]))\n",
        "    else:\n",
        "      prob += (np.log(1 / num_tokens))\n",
        "  return np.exp(prob)\n",
        "\n",
        "def print_probas(phrase):\n",
        "  lenta_proba = joint_probas(phrase, probas_rtt, rtt_num_tokens)\n",
        "  rtt_proba = joint_probas(phrase, probas_lenta, lenta_num_tokens)\n",
        "\n",
        "  proba_sum = lenta_proba + rtt_proba\n",
        "\n",
        "  print('lenta probability:', lenta_proba / proba_sum)\n",
        "  print('twitter probability:', rtt_proba / proba_sum, '\\n')\n",
        "\n",
        "#посчитаем, какова вероятность встретить следующий новостной заголовок Яндекс.Дзена в обоих корпусах\n",
        "phrase = 'В Twitter раскритиковали Зеленского за сравнение Путина с драконом'\n",
        "print_probas(phrase)\n",
        "# print(joint_probas(phrase, probas_lenta, lenta_num_tokens))\n",
        "\n",
        "#попробуем другой текст\n",
        "phrase1 = 'Обидно, когда после свадьбы жена перестает следить за собой, а за тобой не перестает'\n",
        "print_probas(phrase1)\n",
        "# print(joint_probas(phrase1, probas_rtt, rtt_num_tokens))\n",
        "# print(joint_probas(phrase1, probas_lenta, lenta_num_tokens))\n"
      ],
      "metadata": {
        "colab": {
          "base_uri": "https://localhost:8080/"
        },
        "id": "i3DJkljWrGOA",
        "outputId": "931fcb6f-c41d-42a3-bea8-2de3e3ac61be"
      },
      "execution_count": null,
      "outputs": [
        {
          "output_type": "stream",
          "name": "stdout",
          "text": [
            "lenta probability: 0.2511014094949549\n",
            "twitter probability: 0.7488985905050451 \n",
            "\n",
            "lenta probability: 0.9999549714623468\n",
            "twitter probability: 4.5028537653287976e-05 \n",
            "\n"
          ]
        }
      ]
    },
    {
      "cell_type": "code",
      "source": [
        "#2 метод\n",
        "#посчитаем вероятности слов уже как зависимых событий (второе - от первого,\n",
        "#третье - от второго и т.д.) с помощью подсчёта биграмм (Марковское предположение)\n",
        "\n",
        "from nltk.tokenize import sent_tokenize\n",
        "def ngrammer(tokens, n=2):\n",
        "    ngrams = []\n",
        "    for i in range(0,len(tokens)-n+1):\n",
        "        ngrams.append(' '.join(tokens[i:i+n]))\n",
        "    return ngrams\n",
        "\n",
        "#добавим тэг начала предложения, чтобы мы могли также посчитать вероятность\n",
        "#первого слова\n",
        "\n",
        "sentences_lenta = [['<start>'] + text for text in lenta['text_norm']]\n",
        "sentences_rtt = [['<start>'] + text for text in rtt['text_norm']]\n",
        "\n",
        "#подсчёт биграмм\n",
        "unigrams_lenta = Counter()\n",
        "bigrams_lenta = Counter()\n",
        "\n",
        "for sentence in sentences_lenta:\n",
        "    unigrams_lenta.update(sentence)\n",
        "    bigrams_lenta.update(ngrammer(sentence))\n",
        "\n",
        "unigrams_rtt = Counter()\n",
        "bigrams_rtt = Counter()\n",
        "\n",
        "for sentence in sentences_rtt:\n",
        "    unigrams_rtt.update(sentence)\n",
        "    bigrams_rtt.update(ngrammer(sentence))"
      ],
      "metadata": {
        "id": "msCQ1_qffzpe"
      },
      "execution_count": null,
      "outputs": []
    },
    {
      "cell_type": "code",
      "source": [
        "bigrams_rtt.most_common(10)"
      ],
      "metadata": {
        "id": "CcUvc_k2fzsV",
        "colab": {
          "base_uri": "https://localhost:8080/"
        },
        "outputId": "db073922-bc35-4e0d-a1af-b59fd50b013c"
      },
      "execution_count": null,
      "outputs": [
        {
          "output_type": "execute_result",
          "data": {
            "text/plain": [
              "[('<start> просто', 133),\n",
              " ('<start> почему', 127),\n",
              " ('т е', 110),\n",
              " ('сих пор', 102),\n",
              " ('<start> спасибо', 97),\n",
              " ('т д', 87),\n",
              " ('самом деле', 77),\n",
              " ('<start> знаю', 68),\n",
              " ('<start> вообще', 62),\n",
              " ('<start> ещё', 62)]"
            ]
          },
          "metadata": {},
          "execution_count": 66
        }
      ]
    },
    {
      "cell_type": "code",
      "source": [
        "def compute_joint_proba_markov_assumption(text, word_counts, bigram_counts):\n",
        "    prob = 0\n",
        "    for ngram in ngrammer(['<start>'] + normalize(phrase) + ['<end>']):\n",
        "        word1, word2 = ngram.split()\n",
        "        if word1 in word_counts and ngram in bigram_counts:\n",
        "            prob += np.log(bigram_counts[ngram]/word_counts[word1])\n",
        "        else:\n",
        "            prob += np.log(2e-5)\n",
        "    \n",
        "    return np.exp(prob)"
      ],
      "metadata": {
        "id": "E-ZWoCEjuF3a"
      },
      "execution_count": null,
      "outputs": []
    },
    {
      "cell_type": "code",
      "source": [
        "def get_norm_probas(phrase):\n",
        "  rtt_proba = compute_joint_proba_markov_assumption(phrase, unigrams_rtt, bigrams_rtt)\n",
        "  lenta_proba = compute_joint_proba_markov_assumption(phrase, unigrams_lenta, bigrams_lenta)\n",
        "\n",
        "  proba_sum = rtt_proba + lenta_proba\n",
        "\n",
        "  return {'rtt_proba': rtt_proba / proba_sum, 'lenta_proba': lenta_proba / proba_sum}"
      ],
      "metadata": {
        "id": "rMqnaiIpwKSj"
      },
      "execution_count": null,
      "outputs": []
    },
    {
      "cell_type": "code",
      "source": [
        "get_norm_probas(phrase)"
      ],
      "metadata": {
        "colab": {
          "base_uri": "https://localhost:8080/"
        },
        "id": "6_nsDpuPwDk-",
        "outputId": "90d70322-a1e2-476c-af95-6ae09a8993c7"
      },
      "execution_count": null,
      "outputs": [
        {
          "output_type": "execute_result",
          "data": {
            "text/plain": [
              "{'rtt_proba': 0.00021795248635797323, 'lenta_proba': 0.999782047513642}"
            ]
          },
          "metadata": {},
          "execution_count": 73
        }
      ]
    },
    {
      "cell_type": "code",
      "source": [
        "get_norm_probas(phrase1)"
      ],
      "metadata": {
        "colab": {
          "base_uri": "https://localhost:8080/"
        },
        "id": "s1JayvvIwnh0",
        "outputId": "58af0e58-f64e-43e1-e650-68b09fd7f9dc"
      },
      "execution_count": null,
      "outputs": [
        {
          "output_type": "execute_result",
          "data": {
            "text/plain": [
              "{'rtt_proba': 0.00021795248635797323, 'lenta_proba': 0.999782047513642}"
            ]
          },
          "metadata": {},
          "execution_count": 75
        }
      ]
    },
    {
      "cell_type": "code",
      "source": [
        "compute_joint_proba_markov_assumption(phrase, unigrams_rtt, bigrams_rtt) > \\\n",
        "compute_joint_proba_markov_assumption(phrase, unigrams_lenta, bigrams_lenta)"
      ],
      "metadata": {
        "colab": {
          "base_uri": "https://localhost:8080/"
        },
        "id": "0sgOvm4Zv1Rm",
        "outputId": "2f265433-52e4-4a1f-8827-7cf1e3dd1f25"
      },
      "execution_count": null,
      "outputs": [
        {
          "output_type": "execute_result",
          "data": {
            "text/plain": [
              "False"
            ]
          },
          "metadata": {},
          "execution_count": 68
        }
      ]
    },
    {
      "cell_type": "code",
      "source": [
        "get_norm_probas(phrase)"
      ],
      "metadata": {
        "id": "av9vXOarwCJY"
      },
      "execution_count": null,
      "outputs": []
    }
  ]
}
